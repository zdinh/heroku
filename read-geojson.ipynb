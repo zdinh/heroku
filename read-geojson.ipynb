{
 "cells": [
  {
   "cell_type": "code",
   "execution_count": 49,
   "metadata": {},
   "outputs": [
    {
     "name": "stdout",
     "output_type": "stream",
     "text": [
      "palm_grid.geojson\n",
      "shape: (197, 2)\n"
     ]
    }
   ],
   "source": [
    "import geopandas as gpd\n",
    "\n",
    "def hello_world():  \n",
    "    url='https://raw.githubusercontent.com/zdinh/heroku/main/palm_grid.geojson'\n",
    "    filename=url.split('/')[-1]\n",
    "    print(filename)\n",
    "\n",
    "    test=gpd.read_file(url)\n",
    "    return print('shape:', test.shape)\n",
    "\n",
    "hello_world()"
   ]
  }
 ],
 "metadata": {
  "kernelspec": {
   "display_name": "Python 3",
   "language": "python",
   "name": "python3"
  },
  "language_info": {
   "codemirror_mode": {
    "name": "ipython",
    "version": 3
   },
   "file_extension": ".py",
   "mimetype": "text/x-python",
   "name": "python",
   "nbconvert_exporter": "python",
   "pygments_lexer": "ipython3",
   "version": "3.9.12"
  }
 },
 "nbformat": 4,
 "nbformat_minor": 2
}
